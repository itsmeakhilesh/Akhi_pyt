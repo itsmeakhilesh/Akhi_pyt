{
 "cells": [
  {
   "cell_type": "code",
   "execution_count": 54,
   "id": "3289ba7b-2a7b-4b02-bba9-13766358609f",
   "metadata": {},
   "outputs": [
    {
     "name": "stdin",
     "output_type": "stream",
     "text": [
      "Enter your gender (male/female):  male\n",
      "Enter your birth year:  1990\n",
      "Are you a smoker? (yes/no):  yes\n"
     ]
    },
    {
     "name": "stdout",
     "output_type": "stream",
     "text": [
      "Your annual premium is Rs 35000\n"
     ]
    }
   ],
   "source": [
    "def calculate_premium(birth_year, is_smoker):\n",
    "    # Define the base premium amount\n",
    "    base_premium = 35000\n",
    "    \n",
    "   \n",
    "    if 1990 <= birth_year <= 2000:\n",
    "        if is_smoker:\n",
    "            # If the person is a smoker\n",
    "            print(f\"Your annual premium is Rs {base_premium}\")\n",
    "        else:\n",
    "        \n",
    "            discount = 0.10\n",
    "            discounted_premium = base_premium * (1 - discount)\n",
    "            print(f\"Your annual premium after discount is Rs {discounted_premium:.2f}\")\n",
    "    else:\n",
    "        print(\"This premium calculation is only for males born between 1990 and 2000.\")\n",
    "\n",
    "\n",
    "def main():\n",
    "    gender = input(\"Enter your gender (male/female): \").strip().lower()\n",
    "    \n",
    "    if gender == 'male':\n",
    "        birth_year = int(input(\"Enter your birth year: \"))\n",
    "        smoking_status = input(\"Are you a smoker? (yes/no): \").strip().lower()\n",
    "        is_smoker = smoking_status == 'yes'\n",
    "        calculate_premium(birth_year, is_smoker)\n",
    "    else:\n",
    "        print(\"This premium calculation is only for males.\")\n",
    "\n",
    "# Run the main function\n",
    "main()\n"
   ]
  },
  {
   "cell_type": "code",
   "execution_count": null,
   "id": "71fc6a1e-5cc1-47ca-97ce-b4ba2bcb03df",
   "metadata": {},
   "outputs": [],
   "source": []
  },
  {
   "cell_type": "markdown",
   "id": "d4c94b43-9517-491e-be79-aeb15eae2c35",
   "metadata": {},
   "source": [
    "def calculate_premium(birth_year, is_smoker):\n",
    "    if 1990 <= birth_year <= 2000:\n",
    "        base_premium = 35000\n",
    "        if is_smoker:\n",
    "            print(f\"Your annual premium is Rs {base_premium}\")\n",
    "        else:\n",
    "            discount = 0.10\n",
    "            discounted_premium = base_premium * (1 - discount)\n",
    "            print(f\"Your annual premium after discount is Rs {discounted_premium:.2f}\")\n",
    "    elif 1970 <= birth_year < 1990:\n",
    "        base_premium = 40000\n",
    "        if is_smoker:\n",
    "            print(f\"Your annual premium is Rs {base_premium}\")\n",
    "        else:\n",
    "            discount = 0.05\n",
    "            discounted_premium = base_premium * (1 - discount)\n",
    "            print(f\"Your annual premium after discount is Rs {discounted_premium:.2f}\")\n",
    "    else:\n",
    "        print(\"This premium calculation is only for males born between 1970 and 2000.\")\n",
    "def main():\n",
    "    gender = input(\"Enter your gender (male/female): \").strip().lower()\n",
    "\n",
    "    if gender == 'male':\n",
    "        birth_year = int(input(\"Enter your birth year: \"))\n",
    "        smoking_status = input(\"Are you a smoker? (yes/no): \").strip().lower()\n",
    "        is_smoker = smoking_status == 'yes'\n",
    "        calculate_premium(birth_year, is_smoker)\n",
    "    else:\n",
    "        print(\"This premium calculation is only for males.\")\n",
    "main()\n"
   ]
  },
  {
   "cell_type": "markdown",
   "id": "a4b6311f-0169-402d-bad5-3f909b465168",
   "metadata": {},
   "source": [
    "# def calculate_premium(birth_year, is_smoker):\n",
    "    # Define base premium amount for females\n",
    "    base_premium = 30000\n",
    "\n",
    "    # Check if the birth year is between 1990 and 2000\n",
    "    if 1990 <= birth_year <= 2000:\n",
    "        if is_smoker:\n",
    "            # If the female is a smoker\n",
    "            print(f\"Your annual premium is Rs {base_premium}\")\n",
    "        else:\n",
    "            # If the female is a non-smoker, apply a 10% discount\n",
    "            discount = 0.10\n",
    "            discounted_premium = base_premium * (1 - discount)\n",
    "            print(f\"Your annual premium after discount is Rs {discounted_premium:.2f}\")\n",
    "    else:\n",
    "        print(\"This premium calculation is only for females born between 1990 and 2000.\")\n",
    "\n",
    "# Main code\n",
    "def main():\n",
    "    gender = input(\"Enter your gender (female): \").strip().lower()\n",
    "    \n",
    "    if gender == 'female':\n",
    "        birth_year = int(input(\"Enter your birth year: \"))\n",
    "        smoking_status = input(\"Are you a smoker? (yes/no): \").strip().lower()\n",
    "        is_smoker = smoking_status == 'yes'\n",
    "        calculate_premium(birth_year, is_smoker)\n",
    "    else:\n",
    "        print(\"This premium calculation is only for females.\")\n",
    "\n",
    "# Run the main function\n",
    "main()\n",
    "\n"
   ]
  },
  {
   "cell_type": "code",
   "execution_count": 58,
   "id": "a1ba859f-ebfa-4b28-a847-ee3419ca0443",
   "metadata": {},
   "outputs": [
    {
     "ename": "IndentationError",
     "evalue": "unexpected indent (1102631756.py, line 16)",
     "output_type": "error",
     "traceback": [
      "\u001b[1;36m  Cell \u001b[1;32mIn[58], line 16\u001b[1;36m\u001b[0m\n\u001b[1;33m    if gender == 'female':\u001b[0m\n\u001b[1;37m    ^\u001b[0m\n\u001b[1;31mIndentationError\u001b[0m\u001b[1;31m:\u001b[0m unexpected indent\n"
     ]
    }
   ],
   "source": [
    "def calculate_premium(birth_year, is_smoker):\n",
    "    base_premium = 30000\n",
    "    \n",
    "    if 1990 <= birth_year <= 2000:\n",
    "        if is_smoker:\n",
    "            print(f\"Your annual premium is Rs {base_premium}\")\n",
    "        else:\n",
    "            discount = 0.10\n",
    "            discounted_premium = base_premium * (1 - discount)\n",
    "            print(f\"Your annual premium after discount is Rs {discounted_premium:.2f}\")\n",
    "    else:\n",
    "        print(\"This premium calculation is only for females born between 1990 and 2000.\")\n",
    "def main():\n",
    "    gender = input(\"Enter your gender (female): \").strip().lower()\n",
    "    \n",
    "        if gender == 'female':\n",
    "            \n",
    "        birth_year = int(input(\"Enter your birth year: \"))\n",
    "        smoking_status = input(\"Are you a smoker? (yes/no): \").strip().lower()\n",
    "        is_smoker = smoking_status == 'yes'\n",
    "        calculate_premium(birth_year, is_smoker)\n",
    "    else:\n",
    "        print(\"This premium calculation is only for females.\")\n",
    "main()\n"
   ]
  },
  {
   "cell_type": "code",
   "execution_count": 40,
   "id": "98cdf242-d7c9-433f-b633-6686db021f54",
   "metadata": {},
   "outputs": [
    {
     "name": "stdin",
     "output_type": "stream",
     "text": [
      "Enter your gender (female):  female\n",
      "Enter your birth year:  1975\n",
      "Are you a smoker? (yes/no):  yes\n"
     ]
    },
    {
     "name": "stdout",
     "output_type": "stream",
     "text": [
      "Your annual premium is Rs 35000\n"
     ]
    }
   ],
   "source": [
    "def calculate_premium(birth_year, is_smoker):\n",
    "    if 1990 <= birth_year <= 2000:\n",
    "        base_premium = 30000\n",
    "        if is_smoker:\n",
    "            print(f\"Your annual premium is Rs {base_premium}\")\n",
    "        else:\n",
    "            discount = 0.10\n",
    "            discounted_premium = base_premium * (1 - discount)\n",
    "            print(f\"Your annual premium after discount is Rs {discounted_premium:.2f}\")\n",
    "    elif 1970 <= birth_year < 1990:\n",
    "        base_premium = 35000\n",
    "        if is_smoker:\n",
    "            print(f\"Your annual premium is Rs {base_premium}\")\n",
    "        else:\n",
    "            discount = 0.05\n",
    "            discounted_premium = base_premium * (1 - discount)\n",
    "            print(f\"Your annual premium after discount is Rs {discounted_premium:.2f}\")\n",
    "    else:\n",
    "        print(\"This premium calculation is only for females born between 1970 and 2000.\")\n",
    "\n",
    "def main():\n",
    "    gender = input(\"Enter your gender (female): \").strip().lower()  \n",
    "    if gender == 'female':\n",
    "        birth_year = int(input(\"Enter your birth year: \"))\n",
    "        smoking_status = input(\"Are you a smoker? (yes/no): \").strip().lower()\n",
    "        is_smoker = smoking_status == 'yes'\n",
    "        calculate_premium(birth_year, is_smoker)\n",
    "    else:\n",
    "        print(\"This premium calculation is only for females.\")\n",
    "\n",
    "main()\n"
   ]
  },
  {
   "cell_type": "code",
   "execution_count": null,
   "id": "830a30d9-6f9d-465f-a02d-8e68dafd1d5e",
   "metadata": {},
   "outputs": [],
   "source": []
  }
 ],
 "metadata": {
  "kernelspec": {
   "display_name": "Python 3 (ipykernel)",
   "language": "python",
   "name": "python3"
  },
  "language_info": {
   "codemirror_mode": {
    "name": "ipython",
    "version": 3
   },
   "file_extension": ".py",
   "mimetype": "text/x-python",
   "name": "python",
   "nbconvert_exporter": "python",
   "pygments_lexer": "ipython3",
   "version": "3.12.4"
  }
 },
 "nbformat": 4,
 "nbformat_minor": 5
}
